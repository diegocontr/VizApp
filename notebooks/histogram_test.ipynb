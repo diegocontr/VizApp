{
 "cells": [
  {
   "cell_type": "code",
   "execution_count": 7,
   "metadata": {},
   "outputs": [],
   "source": [
    "import math\n",
    "\n",
    "import numpy as np\n",
    "\n",
    "\n",
    "def smart_histogram(v, categorical=False, trim=0.025):\n",
    "    \"\"\"\n",
    "    Create histogram h,x from array v with \"smart\" binning:\n",
    "      - If categorical=True, treat v as categorical and remove categories with <2.5% freq.\n",
    "      - If not categorical:\n",
    "          - Remove top and bottom 2.5% (or `trim` fraction) of values.\n",
    "          - Determine if all values are effectively integers.\n",
    "          - Use Freedman-Diaconis rule for bin width, then round to a nice number.\n",
    "    Returns:\n",
    "      h: histogram counts\n",
    "      x: bin edges (for numeric) or unique categories (for categorical)\n",
    "    \"\"\"\n",
    "    v = np.asarray(v)\n",
    "    if len(v) == 0:\n",
    "        return np.array([]), np.array([])\n",
    "\n",
    "    if categorical:\n",
    "        # Categorical handling\n",
    "        cats, counts = np.unique(v, return_counts=True)\n",
    "        total = len(v)\n",
    "        freq = counts / total\n",
    "\n",
    "        # Filter out rare categories\n",
    "        mask = freq >= trim\n",
    "        cats = cats[mask]\n",
    "\n",
    "        # Filter data to these categories only\n",
    "        v_filtered = v[np.isin(v, cats)]\n",
    "\n",
    "        # Return counts by category. For categorical, x are just the categories\n",
    "        # Keep categories sorted by their natural order\n",
    "        cats_sorted = np.sort(cats)\n",
    "        h = np.array([np.sum(v_filtered == c) for c in cats_sorted])\n",
    "        return h, cats_sorted\n",
    "    else:\n",
    "        # Non-categorical (continuous or ordinal)\n",
    "        # Trim extremes\n",
    "        if trim > 0:\n",
    "            lower_bound = np.percentile(v, 100 * trim)\n",
    "            upper_bound = np.percentile(v, 100 * (1 - trim))\n",
    "            v_filtered = v[(v >= lower_bound) & (v <= upper_bound)]\n",
    "        else:\n",
    "            v_filtered = v\n",
    "\n",
    "        if len(v_filtered) == 0:\n",
    "            return np.array([]), np.array([])\n",
    "\n",
    "        # Check if effectively integral\n",
    "        is_integral = np.allclose(v_filtered, v_filtered.astype(int))\n",
    "\n",
    "        # Freedman-Diaconis bin width\n",
    "        q1, q3 = np.percentile(v_filtered, [25, 75])\n",
    "        iqr = q3 - q1\n",
    "        if iqr > 0:\n",
    "            bin_width = 2 * iqr * (len(v_filtered) ** (-1/3))\n",
    "        else:\n",
    "            # If IQR=0, fallback to a default\n",
    "            data_range = v_filtered.max() - v_filtered.min()\n",
    "            bin_width = data_range / 10 if data_range != 0 else 1\n",
    "\n",
    "        if bin_width <= 0:\n",
    "            # If still <=0, fallback\n",
    "            data_range = v_filtered.max() - v_filtered.min()\n",
    "            bin_width = data_range / 10 if data_range != 0 else 1\n",
    "\n",
    "        # Function to choose a nice number for bin width\n",
    "        def nice_number(x):\n",
    "            if x <= 0:\n",
    "                return 1.0\n",
    "            exp = math.floor(math.log10(x))\n",
    "            frac = x / (10**exp)\n",
    "            if frac < 1.5:\n",
    "                nice_frac = 1\n",
    "            elif frac < 3:\n",
    "                nice_frac = 2\n",
    "            elif frac < 7:\n",
    "                nice_frac = 5\n",
    "            else:\n",
    "                nice_frac = 10\n",
    "            return nice_frac * 10**exp\n",
    "\n",
    "        nice_bin_width = nice_number(bin_width)\n",
    "\n",
    "        if is_integral:\n",
    "            nice_bin_width = max(1, round(nice_bin_width))\n",
    "\n",
    "        data_min = v_filtered.min()\n",
    "        data_max = v_filtered.max()\n",
    "\n",
    "        # Align start to a nice boundary\n",
    "        start = math.floor(data_min / nice_bin_width) * nice_bin_width\n",
    "        while start > data_min:\n",
    "            start -= nice_bin_width\n",
    "\n",
    "        # Calculate number of bins needed\n",
    "        n_bins = math.ceil((data_max - start) / nice_bin_width)\n",
    "        end = start + n_bins * nice_bin_width\n",
    "\n",
    "        # If integral, ensure the bin boundaries are integers\n",
    "        if is_integral:\n",
    "            start = int(math.floor(start))\n",
    "            end = int(math.ceil(end))\n",
    "            # Adjust n_bins based on integral width\n",
    "            n_bins = (end - start) // nice_bin_width\n",
    "            if (end - start) % nice_bin_width != 0:\n",
    "                n_bins = int(math.ceil((end - start) / nice_bin_width))\n",
    "\n",
    "        bins = start + np.arange(n_bins + 1) * nice_bin_width\n",
    "\n",
    "        if is_integral:\n",
    "            bins = bins.astype(int)\n",
    "\n",
    "        h, x = np.histogram(v_filtered, bins=bins)\n",
    "        return h, x\n",
    "\n",
    "# Example usage:\n",
    "v = np.random.randint(0, 10,1000) # continuous\n",
    "h, x = smart_histogram(v, categorical=True)\n"
   ]
  },
  {
   "cell_type": "code",
   "execution_count": 6,
   "metadata": {},
   "outputs": [
    {
     "data": {
      "text/plain": [
       "617"
      ]
     },
     "execution_count": 6,
     "metadata": {},
     "output_type": "execute_result"
    }
   ],
   "source": [
    "v"
   ]
  },
  {
   "cell_type": "code",
   "execution_count": 9,
   "metadata": {},
   "outputs": [
    {
     "data": {
      "text/plain": [
       "<Axes: >"
      ]
     },
     "execution_count": 9,
     "metadata": {},
     "output_type": "execute_result"
    },
    {
     "data": {
      "image/png": "[encoded data removed]",
      "text/plain": [
       "<Figure size 640x480 with 1 Axes>"
      ]
     },
     "metadata": {},
     "output_type": "display_data"
    }
   ],
   "source": [
    "import seaborn as sns\n",
    "\n",
    "sns.barplot(x=x,y=h)"
   ]
  }
 ],
 "metadata": {
  "kernelspec": {
   "display_name": ".toolenv",
   "language": "python",
   "name": "python3"
  },
  "language_info": {
   "codemirror_mode": {
    "name": "ipython",
    "version": 3
   },
   "file_extension": ".py",
   "mimetype": "text/x-python",
   "name": "python",
   "nbconvert_exporter": "python",
   "pygments_lexer": "ipython3",
   "version": "3.10.15"
  }
 },
 "nbformat": 4,
 "nbformat_minor": 2
}
