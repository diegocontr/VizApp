{
 "cells": [
  {
   "cell_type": "code",
   "execution_count": 1,
   "metadata": {},
   "outputs": [
    {
     "name": "stdout",
     "output_type": "stream",
     "text": [
      "Successfully saved ICO file at ../images/icondirect.ico\n"
     ]
    }
   ],
   "source": [
    "from PIL import Image\n",
    "\n",
    "\n",
    "def convert_to_ico(input_image_path, output_ico_path, sizes=[(32, 32), (64, 64), (128, 128)]):\n",
    "    \"\"\"\n",
    "    Converts an image to ICO format with specified sizes.\n",
    "\n",
    "    :param input_image_path: Path to the input image file.\n",
    "    :param output_ico_path: Path where the ICO file will be saved.\n",
    "    :param sizes: A list of sizes for the ICO file.\n",
    "    \"\"\"\n",
    "    try:\n",
    "        # Open the input image\n",
    "        img = Image.open(input_image_path)\n",
    "\n",
    "        # Convert and save as ICO\n",
    "        img.save(output_ico_path, format=\"ICO\", sizes=sizes)\n",
    "        print(f\"Successfully saved ICO file at {output_ico_path}\")\n",
    "    except Exception as e:\n",
    "        print(f\"An error occurred: {e}\")\n",
    "\n",
    "\n",
    "if __name__ == \"__main__\":\n",
    "    input_path = \"../images/logodirect.png\"  # Replace with your image path\n",
    "    output_path = \"../images/icondirect.ico\"  # Replace with desired ICO path\n",
    "    convert_to_ico(input_path, output_path)"
   ]
  }
 ],
 "metadata": {
  "kernelspec": {
   "display_name": ".toolenv",
   "language": "python",
   "name": "python3"
  },
  "language_info": {
   "codemirror_mode": {
    "name": "ipython",
    "version": 3
   },
   "file_extension": ".py",
   "mimetype": "text/x-python",
   "name": "python",
   "nbconvert_exporter": "python",
   "pygments_lexer": "ipython3",
   "version": "3.10.15"
  }
 },
 "nbformat": 4,
 "nbformat_minor": 2
}
